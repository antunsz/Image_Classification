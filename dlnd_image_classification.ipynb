{
 "cells": [
  {
   "cell_type": "markdown",
   "metadata": {
    "collapsed": true
   },
   "source": [
    "# Image Classification\n",
    "In this project, you'll classify images from the [CIFAR-10 dataset](https://www.cs.toronto.edu/~kriz/cifar.html).  The dataset consists of airplanes, dogs, cats, and other objects. You'll preprocess the images, then train a convolutional neural network on all the samples. The images need to be normalized and the labels need to be one-hot encoded.  You'll get to apply what you learned and build a convolutional, max pooling, dropout, and fully connected layers.  At the end, you'll get to see your neural network's predictions on the sample images.\n",
    "## Get the Data\n",
    "Run the following cell to download the [CIFAR-10 dataset for python](https://www.cs.toronto.edu/~kriz/cifar-10-python.tar.gz)."
   ]
  },
  {
   "cell_type": "code",
   "execution_count": 1,
   "metadata": {},
   "outputs": [
    {
     "name": "stderr",
     "output_type": "stream",
     "text": [
      "CIFAR-10 Dataset: 171MB [01:08, 2.50MB/s]                              \n"
     ]
    },
    {
     "name": "stdout",
     "output_type": "stream",
     "text": [
      "All files found!\n"
     ]
    }
   ],
   "source": [
    "\"\"\"\n",
    "DON'T MODIFY ANYTHING IN THIS CELL THAT IS BELOW THIS LINE\n",
    "\"\"\"\n",
    "from urllib.request import urlretrieve\n",
    "from os.path import isfile, isdir\n",
    "from tqdm import tqdm\n",
    "import problem_unittests as tests\n",
    "import tarfile\n",
    "\n",
    "cifar10_dataset_folder_path = 'cifar-10-batches-py'\n",
    "\n",
    "# Use Floyd's cifar-10 dataset if present\n",
    "floyd_cifar10_location = '/input/cifar-10/python.tar.gz'\n",
    "if isfile(floyd_cifar10_location):\n",
    "    tar_gz_path = floyd_cifar10_location\n",
    "else:\n",
    "    tar_gz_path = 'cifar-10-python.tar.gz'\n",
    "\n",
    "class DLProgress(tqdm):\n",
    "    last_block = 0\n",
    "\n",
    "    def hook(self, block_num=1, block_size=1, total_size=None):\n",
    "        self.total = total_size\n",
    "        self.update((block_num - self.last_block) * block_size)\n",
    "        self.last_block = block_num\n",
    "\n",
    "if not isfile(tar_gz_path):\n",
    "    with DLProgress(unit='B', unit_scale=True, miniters=1, desc='CIFAR-10 Dataset') as pbar:\n",
    "        urlretrieve(\n",
    "            'https://www.cs.toronto.edu/~kriz/cifar-10-python.tar.gz',\n",
    "            tar_gz_path,\n",
    "            pbar.hook)\n",
    "\n",
    "if not isdir(cifar10_dataset_folder_path):\n",
    "    with tarfile.open(tar_gz_path) as tar:\n",
    "        tar.extractall()\n",
    "        tar.close()\n",
    "\n",
    "\n",
    "tests.test_folder_path(cifar10_dataset_folder_path)"
   ]
  },
  {
   "cell_type": "markdown",
   "metadata": {},
   "source": [
    "## Explore the Data\n",
    "The dataset is broken into batches to prevent your machine from running out of memory.  The CIFAR-10 dataset consists of 5 batches, named `data_batch_1`, `data_batch_2`, etc.. Each batch contains the labels and images that are one of the following:\n",
    "* airplane\n",
    "* automobile\n",
    "* bird\n",
    "* cat\n",
    "* deer\n",
    "* dog\n",
    "* frog\n",
    "* horse\n",
    "* ship\n",
    "* truck\n",
    "\n",
    "Understanding a dataset is part of making predictions on the data.  Play around with the code cell below by changing the `batch_id` and `sample_id`. The `batch_id` is the id for a batch (1-5). The `sample_id` is the id for a image and label pair in the batch.\n",
    "\n",
    "Ask yourself \"What are all possible labels?\", \"What is the range of values for the image data?\", \"Are the labels in order or random?\".  Answers to questions like these will help you preprocess the data and end up with better predictions."
   ]
  },
  {
   "cell_type": "code",
   "execution_count": 4,
   "metadata": {},
   "outputs": [
    {
     "name": "stdout",
     "output_type": "stream",
     "text": [
      "\n",
      "Stats of batch 1:\n",
      "Samples: 10000\n",
      "Label Counts: {0: 1005, 1: 974, 2: 1032, 3: 1016, 4: 999, 5: 937, 6: 1030, 7: 1001, 8: 1025, 9: 981}\n",
      "First 20 Labels: [6, 9, 9, 4, 1, 1, 2, 7, 8, 3, 4, 7, 7, 2, 9, 9, 9, 3, 2, 6]\n",
      "\n",
      "Example of Image 5:\n",
      "Image - Min Value: 0 Max Value: 252\n",
      "Image - Shape: (32, 32, 3)\n",
      "Label - Label Id: 1 Name: automobile\n"
     ]
    },
    {
     "data": {
      "image/png": "[encoded data removed]",
      "text/plain": [
       "<matplotlib.figure.Figure at 0x7f0e75785fd0>"
      ]
     },
     "metadata": {
      "image/png": {
       "height": 250,
       "width": 253
      }
     },
     "output_type": "display_data"
    }
   ],
   "source": [
    "%matplotlib inline\n",
    "%config InlineBackend.figure_format = 'retina'\n",
    "\n",
    "import helper\n",
    "import numpy as np\n",
    "\n",
    "# Explore the dataset\n",
    "batch_id = 1\n",
    "sample_id = 5\n",
    "helper.display_stats(cifar10_dataset_folder_path, batch_id, sample_id)"
   ]
  },
  {
   "cell_type": "markdown",
   "metadata": {},
   "source": [
    "## Implement Preprocess Functions\n",
    "### Normalize\n",
    "In the cell below, implement the `normalize` function to take in image data, `x`, and return it as a normalized Numpy array. The values should be in the range of 0 to 1, inclusive.  The return object should be the same shape as `x`."
   ]
  },
  {
   "cell_type": "code",
   "execution_count": 2,
   "metadata": {},
   "outputs": [
    {
     "name": "stdout",
     "output_type": "stream",
     "text": [
      "Tests Passed\n"
     ]
    }
   ],
   "source": [
    "def normalize(x):\n",
    "    \"\"\"\n",
    "    Normalize a list of sample image data in the range of 0 to 1\n",
    "    : x: List of image data.  The image shape is (32, 32, 3)\n",
    "    : return: Numpy array of normalize data\n",
    "    \"\"\"\n",
    "    # TODO: Implement Function\n",
    "    #This way, if the value of pixel was 255, this will be normalized as 0 and if was 0 will be normalized as 1, all values between will be normalized between 0 and 1  \n",
    "    return 1 + ((x*- 1)/ 255)\n",
    "\n",
    "\n",
    "\"\"\"\n",
    "DON'T MODIFY ANYTHING IN THIS CELL THAT IS BELOW THIS LINE\n",
    "\"\"\"\n",
    "tests.test_normalize(normalize)"
   ]
  },
  {
   "cell_type": "markdown",
   "metadata": {},
   "source": [
    "### One-hot encode\n",
    "Just like the previous code cell, you'll be implementing a function for preprocessing.  This time, you'll implement the `one_hot_encode` function. The input, `x`, are a list of labels.  Implement the function to return the list of labels as One-Hot encoded Numpy array.  The possible values for labels are 0 to 9. The one-hot encoding function should return the same encoding for each value between each call to `one_hot_encode`.  Make sure to save the map of encodings outside the function.\n",
    "\n",
    "Hint: Don't reinvent the wheel."
   ]
  },
  {
   "cell_type": "code",
   "execution_count": 20,
   "metadata": {},
   "outputs": [
    {
     "name": "stdout",
     "output_type": "stream",
     "text": [
      "Tests Passed\n"
     ]
    }
   ],
   "source": [
    "def one_hot_encode(x):\n",
    "    \"\"\"\n",
    "    One hot encode a list of sample labels. Return a one-hot encoded vector for each label.\n",
    "    : x: List of sample Labels\n",
    "    : return: Numpy array of one-hot encoded labels\n",
    "    \"\"\"\n",
    "    # TODO: Implement Function\n",
    "    #hint: np.zeros(10)[x]\n",
    "    one_hot = []\n",
    "    for id, label in enumerate(x):\n",
    "        one_hot.append(np.zeros(10))\n",
    "        one_hot[id][label] = 1\n",
    "    return np.array(one_hot)\n",
    "\n",
    "\n",
    "\"\"\"\n",
    "DON'T MODIFY ANYTHING IN THIS CELL THAT IS BELOW THIS LINE\n",
    "\"\"\"\n",
    "tests.test_one_hot_encode(one_hot_encode)"
   ]
  },
  {
   "cell_type": "markdown",
   "metadata": {},
   "source": [
    "### Randomize Data\n",
    "As you saw from exploring the data above, the order of the samples are randomized.  It doesn't hurt to randomize it again, but you don't need to for this dataset."
   ]
  },
  {
   "cell_type": "markdown",
   "metadata": {},
   "source": [
    "## Preprocess all the data and save it\n",
    "Running the code cell below will preprocess all the CIFAR-10 data and save it to file. The code below also uses 10% of the training data for validation."
   ]
  },
  {
   "cell_type": "code",
   "execution_count": 21,
   "metadata": {
    "collapsed": true
   },
   "outputs": [],
   "source": [
    "\"\"\"\n",
    "DON'T MODIFY ANYTHING IN THIS CELL\n",
    "\"\"\"\n",
    "# Preprocess Training, Validation, and Testing Data\n",
    "helper.preprocess_and_save_data(cifar10_dataset_folder_path, normalize, one_hot_encode)"
   ]
  },
  {
   "cell_type": "markdown",
   "metadata": {},
   "source": [
    "# Check Point\n",
    "This is your first checkpoint.  If you ever decide to come back to this notebook or have to restart the notebook, you can start from here.  The preprocessed data has been saved to disk."
   ]
  },
  {
   "cell_type": "code",
   "execution_count": 22,
   "metadata": {
    "collapsed": true
   },
   "outputs": [],
   "source": [
    "\"\"\"\n",
    "DON'T MODIFY ANYTHING IN THIS CELL\n",
    "\"\"\"\n",
    "import pickle\n",
    "import problem_unittests as tests\n",
    "import helper\n",
    "\n",
    "# Load the Preprocessed Validation data\n",
    "valid_features, valid_labels = pickle.load(open('preprocess_validation.p', mode='rb'))"
   ]
  },
  {
   "cell_type": "markdown",
   "metadata": {},
   "source": [
    "## Build the network\n",
    "For the neural network, you'll build each layer into a function.  Most of the code you've seen has been outside of functions. To test your code more thoroughly, we require that you put each layer in a function.  This allows us to give you better feedback and test for simple mistakes using our unittests before you submit your project.\n",
    "\n",
    ">**Note:** If you're finding it hard to dedicate enough time for this course each week, we've provided a small shortcut to this part of the project. In the next couple of problems, you'll have the option to use classes from the [TensorFlow Layers](https://www.tensorflow.org/api_docs/python/tf/layers) or [TensorFlow Layers (contrib)](https://www.tensorflow.org/api_guides/python/contrib.layers) packages to build each layer, except the layers you build in the \"Convolutional and Max Pooling Layer\" section.  TF Layers is similar to Keras's and TFLearn's abstraction to layers, so it's easy to pickup.\n",
    "\n",
    ">However, if you would like to get the most out of this course, try to solve all the problems _without_ using anything from the TF Layers packages. You **can** still use classes from other packages that happen to have the same name as ones you find in TF Layers! For example, instead of using the TF Layers version of the `conv2d` class, [tf.layers.conv2d](https://www.tensorflow.org/api_docs/python/tf/layers/conv2d), you would want to use the TF Neural Network version of `conv2d`, [tf.nn.conv2d](https://www.tensorflow.org/api_docs/python/tf/nn/conv2d). \n",
    "\n",
    "Let's begin!\n",
    "\n",
    "### Input\n",
    "The neural network needs to read the image data, one-hot encoded labels, and dropout keep probability. Implement the following functions\n",
    "* Implement `neural_net_image_input`\n",
    " * Return a [TF Placeholder](https://www.tensorflow.org/api_docs/python/tf/placeholder)\n",
    " * Set the shape using `image_shape` with batch size set to `None`.\n",
    " * Name the TensorFlow placeholder \"x\" using the TensorFlow `name` parameter in the [TF Placeholder](https://www.tensorflow.org/api_docs/python/tf/placeholder).\n",
    "* Implement `neural_net_label_input`\n",
    " * Return a [TF Placeholder](https://www.tensorflow.org/api_docs/python/tf/placeholder)\n",
    " * Set the shape using `n_classes` with batch size set to `None`.\n",
    " * Name the TensorFlow placeholder \"y\" using the TensorFlow `name` parameter in the [TF Placeholder](https://www.tensorflow.org/api_docs/python/tf/placeholder).\n",
    "* Implement `neural_net_keep_prob_input`\n",
    " * Return a [TF Placeholder](https://www.tensorflow.org/api_docs/python/tf/placeholder) for dropout keep probability.\n",
    " * Name the TensorFlow placeholder \"keep_prob\" using the TensorFlow `name` parameter in the [TF Placeholder](https://www.tensorflow.org/api_docs/python/tf/placeholder).\n",
    "\n",
    "These names will be used at the end of the project to load your saved model.\n",
    "\n",
    "Note: `None` for shapes in TensorFlow allow for a dynamic size."
   ]
  },
  {
   "cell_type": "code",
   "execution_count": 23,
   "metadata": {},
   "outputs": [
    {
     "name": "stdout",
     "output_type": "stream",
     "text": [
      "Image Input Tests Passed.\n",
      "Label Input Tests Passed.\n",
      "Keep Prob Tests Passed.\n"
     ]
    }
   ],
   "source": [
    "import tensorflow as tf\n",
    "\n",
    "def neural_net_image_input(image_shape):\n",
    "    \"\"\"\n",
    "    Return a Tensor for a batch of image input\n",
    "    : image_shape: Shape of the images\n",
    "    : return: Tensor for image input.\n",
    "    \"\"\"\n",
    "    # TODO: Implement Function\n",
    "    return tf.placeholder(tf.float32, shape=(None,*image_shape), name='x')\n",
    "\n",
    "\n",
    "def neural_net_label_input(n_classes):\n",
    "    \"\"\"\n",
    "    Return a Tensor for a batch of label input\n",
    "    : n_classes: Number of classes\n",
    "    : return: Tensor for label input.\n",
    "    \"\"\"\n",
    "    # TODO: Implement Function\n",
    "    return tf.placeholder(tf.float32, shape=(None, n_classes), name='y')\n",
    "\n",
    "\n",
    "def neural_net_keep_prob_input():\n",
    "    \"\"\"\n",
    "    Return a Tensor for keep probability\n",
    "    : return: Tensor for keep probability.\n",
    "    \"\"\"\n",
    "    # TODO: Implement Function\n",
    "    return tf.placeholder(tf.float32, name='keep_prob')\n",
    "\n",
    "\n",
    "\"\"\"\n",
    "DON'T MODIFY ANYTHING IN THIS CELL THAT IS BELOW THIS LINE\n",
    "\"\"\"\n",
    "tf.reset_default_graph()\n",
    "tests.test_nn_image_inputs(neural_net_image_input)\n",
    "tests.test_nn_label_inputs(neural_net_label_input)\n",
    "tests.test_nn_keep_prob_inputs(neural_net_keep_prob_input)"
   ]
  },
  {
   "cell_type": "markdown",
   "metadata": {},
   "source": [
    "### Convolution and Max Pooling Layer\n",
    "Convolution layers have a lot of success with images. For this code cell, you should implement the function `conv2d_maxpool` to apply convolution then max pooling:\n",
    "* Create the weight and bias using `conv_ksize`, `conv_num_outputs` and the shape of `x_tensor`.\n",
    "* Apply a convolution to `x_tensor` using weight and `conv_strides`.\n",
    " * We recommend you use same padding, but you're welcome to use any padding.\n",
    "* Add bias\n",
    "* Add a nonlinear activation to the convolution.\n",
    "* Apply Max Pooling using `pool_ksize` and `pool_strides`.\n",
    " * We recommend you use same padding, but you're welcome to use any padding.\n",
    "\n",
    "**Note:** You **can't** use [TensorFlow Layers](https://www.tensorflow.org/api_docs/python/tf/layers) or [TensorFlow Layers (contrib)](https://www.tensorflow.org/api_guides/python/contrib.layers) for **this** layer, but you can still use TensorFlow's [Neural Network](https://www.tensorflow.org/api_docs/python/tf/nn) package. You may still use the shortcut option for all the **other** layers."
   ]
  },
  {
   "cell_type": "code",
   "execution_count": 48,
   "metadata": {},
   "outputs": [
    {
     "name": "stdout",
     "output_type": "stream",
     "text": [
      "Tests Passed\n"
     ]
    }
   ],
   "source": [
    "MEAN = 0.0001\n",
    "STDDEV = 0.05\n",
    "def conv2d_maxpool(x_tensor, conv_num_outputs, conv_ksize, conv_strides, pool_ksize, pool_strides):\n",
    "    \"\"\"\n",
    "    Apply convolution then max pooling to x_tensor\n",
    "    :param x_tensor: TensorFlow Tensor\n",
    "    :param conv_num_outputs: Number of outputs for the convolutional layer\n",
    "    :param conv_ksize: kernal size 2-D Tuple for the convolutional layer\n",
    "    :param conv_strides: Stride 2-D Tuple for convolution\n",
    "    :param pool_ksize: kernal size 2-D Tuple for pool\n",
    "    :param pool_strides: Stride 2-D Tuple for pool\n",
    "    : return: A tensor that represents convolution and max pooling of x_tensor\n",
    "    \"\"\"\n",
    "    # TODO: Implement Function\n",
    "    x_batch, x_height, x_width, x_depth = x_tensor.shape\n",
    "    filter_weights = tf.Variable(tf.truncated_normal(mean=MEAN, stddev=STDDEV, shape=[*conv_ksize, x_depth.value, conv_num_outputs]))\n",
    "    bias = tf.Variable(tf.truncated_normal(mean=MEAN, stddev=STDDEV, shape=[conv_num_outputs]))\n",
    "    x_tensor = tf.nn.conv2d(x_tensor, filter_weights, strides=[1, *conv_strides, 1], padding='SAME')\n",
    "    x_tensor = tf.nn.bias_add(x_tensor, bias)\n",
    "    x_tensor = tf.nn.relu(x_tensor)\n",
    "    x_tensor = tf.nn.max_pool(x_tensor, ksize=[1, *pool_ksize, 1], strides=[1, *pool_strides, 1], padding='SAME')\n",
    "    return x_tensor \n",
    "\n",
    "\n",
    "\"\"\"\n",
    "DON'T MODIFY ANYTHING IN THIS CELL THAT IS BELOW THIS LINE\n",
    "\"\"\"\n",
    "tests.test_con_pool(conv2d_maxpool)"
   ]
  },
  {
   "cell_type": "markdown",
   "metadata": {},
   "source": [
    "### Flatten Layer\n",
    "Implement the `flatten` function to change the dimension of `x_tensor` from a 4-D tensor to a 2-D tensor.  The output should be the shape (*Batch Size*, *Flattened Image Size*). Shortcut option: you can use classes from the [TensorFlow Layers](https://www.tensorflow.org/api_docs/python/tf/layers) or [TensorFlow Layers (contrib)](https://www.tensorflow.org/api_guides/python/contrib.layers) packages for this layer. For more of a challenge, only use other TensorFlow packages."
   ]
  },
  {
   "cell_type": "code",
   "execution_count": 25,
   "metadata": {},
   "outputs": [
    {
     "name": "stdout",
     "output_type": "stream",
     "text": [
      "Tests Passed\n"
     ]
    }
   ],
   "source": [
    "def flatten(x_tensor):\n",
    "    \"\"\"\n",
    "    Flatten x_tensor to (Batch Size, Flattened Image Size)\n",
    "    : x_tensor: A tensor of size (Batch Size, ...), where ... are the image dimensions.\n",
    "    : return: A tensor of size (Batch Size, Flattened Image Size).\n",
    "    \"\"\"\n",
    "    # TODO: Implement Function\n",
    "    shape = x_tensor.get_shape()\n",
    "    num_features = shape[1:].num_elements()\n",
    "    flattened = tf.reshape(x_tensor, [-1, num_features])\n",
    "    return flattened\n",
    "\n",
    "\n",
    "\"\"\"\n",
    "DON'T MODIFY ANYTHING IN THIS CELL THAT IS BELOW THIS LINE\n",
    "\"\"\"\n",
    "tests.test_flatten(flatten)"
   ]
  },
  {
   "cell_type": "markdown",
   "metadata": {},
   "source": [
    "### Fully-Connected Layer\n",
    "Implement the `fully_conn` function to apply a fully connected layer to `x_tensor` with the shape (*Batch Size*, *num_outputs*). Shortcut option: you can use classes from the [TensorFlow Layers](https://www.tensorflow.org/api_docs/python/tf/layers) or [TensorFlow Layers (contrib)](https://www.tensorflow.org/api_guides/python/contrib.layers) packages for this layer. For more of a challenge, only use other TensorFlow packages."
   ]
  },
  {
   "cell_type": "code",
   "execution_count": 41,
   "metadata": {},
   "outputs": [
    {
     "name": "stdout",
     "output_type": "stream",
     "text": [
      "Tests Passed\n"
     ]
    }
   ],
   "source": [
    "def fully_conn(x_tensor, num_outputs):\n",
    "    \"\"\"\n",
    "    Apply a fully connected layer to x_tensor using weight and bias\n",
    "    : x_tensor: A 2-D tensor where the first dimension is batch size.\n",
    "    : num_outputs: The number of output that the new tensor should be.\n",
    "    : return: A 2-D tensor where the second dimension is num_outputs.\n",
    "    \"\"\"\n",
    "    # TODO: Implement Function\n",
    "    shape = x_tensor.get_shape()\n",
    "    weights = tf.Variable(tf.truncated_normal(mean=MEAN, stddev=STDDEV, shape=[shape[1].value, num_outputs]))\n",
    "    bias = tf.Variable(tf.truncated_normal(mean=MEAN, stddev=STDDEV, shape=[num_outputs]))\n",
    "    return tf.nn.relu(tf.add(tf.matmul(x_tensor, weights), bias))\n",
    "\n",
    "\n",
    "\"\"\"\n",
    "DON'T MODIFY ANYTHING IN THIS CELL THAT IS BELOW THIS LINE\n",
    "\"\"\"\n",
    "tests.test_fully_conn(fully_conn)"
   ]
  },
  {
   "cell_type": "markdown",
   "metadata": {},
   "source": [
    "### Output Layer\n",
    "Implement the `output` function to apply a fully connected layer to `x_tensor` with the shape (*Batch Size*, *num_outputs*). Shortcut option: you can use classes from the [TensorFlow Layers](https://www.tensorflow.org/api_docs/python/tf/layers) or [TensorFlow Layers (contrib)](https://www.tensorflow.org/api_guides/python/contrib.layers) packages for this layer. For more of a challenge, only use other TensorFlow packages.\n",
    "\n",
    "**Note:** Activation, softmax, or cross entropy should **not** be applied to this."
   ]
  },
  {
   "cell_type": "code",
   "execution_count": 32,
   "metadata": {},
   "outputs": [
    {
     "name": "stdout",
     "output_type": "stream",
     "text": [
      "Tests Passed\n"
     ]
    }
   ],
   "source": [
    "def output(x_tensor, num_outputs):\n",
    "    \"\"\"\n",
    "    Apply a output layer to x_tensor using weight and bias\n",
    "    : x_tensor: A 2-D tensor where the first dimension is batch size.\n",
    "    : num_outputs: The number of output that the new tensor should be.\n",
    "    : return: A 2-D tensor where the second dimension is num_outputs.\n",
    "    \"\"\"\n",
    "    # TODO: Implement Function\n",
    "    shape = x_tensor.get_shape().as_list()\n",
    "    weights = tf.Variable(tf.truncated_normal(stddev=STDDEV, shape=[shape[1], num_outputs]))\n",
    "    bias = tf.Variable(tf.truncated_normal(mean=MEAN, stddev=STDDEV, shape=[num_outputs]))\n",
    "    return tf.add(tf.matmul(x_tensor, weights), bias)\n",
    "\n",
    "\n",
    "\"\"\"\n",
    "DON'T MODIFY ANYTHING IN THIS CELL THAT IS BELOW THIS LINE\n",
    "\"\"\"\n",
    "tests.test_output(output)"
   ]
  },
  {
   "cell_type": "markdown",
   "metadata": {},
   "source": [
    "### Create Convolutional Model\n",
    "Implement the function `conv_net` to create a convolutional neural network model. The function takes in a batch of images, `x`, and outputs logits.  Use the layers you created above to create this model:\n",
    "\n",
    "* Apply 1, 2, or 3 Convolution and Max Pool layers\n",
    "* Apply a Flatten Layer\n",
    "* Apply 1, 2, or 3 Fully Connected Layers\n",
    "* Apply an Output Layer\n",
    "* Return the output\n",
    "* Apply [TensorFlow's Dropout](https://www.tensorflow.org/api_docs/python/tf/nn/dropout) to one or more layers in the model using `keep_prob`. "
   ]
  },
  {
   "cell_type": "code",
   "execution_count": 43,
   "metadata": {},
   "outputs": [
    {
     "name": "stdout",
     "output_type": "stream",
     "text": [
      "Neural Network Built!\n"
     ]
    }
   ],
   "source": [
    "def conv_net(x, keep_prob):\n",
    "    \"\"\"\n",
    "    Create a convolutional neural network model\n",
    "    : x: Placeholder tensor that holds image data.\n",
    "    : keep_prob: Placeholder tensor that hold dropout keep probability.\n",
    "    : return: Tensor that represents logits\n",
    "    \"\"\"\n",
    "    # TODO: Apply 1, 2, or 3 Convolution and Max Pool layers\n",
    "    #    Play around with different number of outputs, kernel size and stride\n",
    "    # Function Definition from Above:\n",
    "    #    conv2d_maxpool(x_tensor, conv_num_outputs, conv_ksize, conv_strides, pool_ksize, pool_strides)\n",
    "    x = conv2d_maxpool(x, 32, (5, 5), (1, 1), (2, 2), (2, 2))\n",
    "    x = conv2d_maxpool(x, 64, (5, 5), (1, 1), (2, 2), (2, 2))\n",
    "    x = conv2d_maxpool(x, 128, (5, 5), (1, 1), (2, 2), (2, 2))\n",
    "\n",
    "    # TODO: Apply a Flatten Layer\n",
    "    # Function Definition from Above:\n",
    "    #   flatten(x_tensor)\n",
    "    x = flatten(x)\n",
    "\n",
    "    # TODO: Apply 1, 2, or 3 Fully Connected Layers\n",
    "    #    Play around with different number of outputs\n",
    "    # Function Definition from Above:\n",
    "    #   fully_conn(x_tensor, num_outputs)\n",
    "    x = fully_conn(x, num_outputs=786)\n",
    "    x = fully_conn(x, num_outputs=786)\n",
    "    x = tf.nn.dropout(x, keep_prob)\n",
    "    # TODO: Apply an Output Layer\n",
    "    #    Set this to the number of classes\n",
    "    # Function Definition from Above:\n",
    "    #   output(x_tensor, num_outputs)\n",
    "    x = output(x, 10)\n",
    "    \n",
    "    # TODO: return output\n",
    "    return x\n",
    "\n",
    "\n",
    "\"\"\"\n",
    "DON'T MODIFY ANYTHING IN THIS CELL THAT IS BELOW THIS LINE\n",
    "\"\"\"\n",
    "\n",
    "##############################\n",
    "## Build the Neural Network ##\n",
    "##############################\n",
    "\n",
    "# Remove previous weights, bias, inputs, etc..\n",
    "tf.reset_default_graph()\n",
    "\n",
    "# Inputs\n",
    "x = neural_net_image_input((32, 32, 3))\n",
    "y = neural_net_label_input(10)\n",
    "keep_prob = neural_net_keep_prob_input()\n",
    "\n",
    "# Model\n",
    "logits = conv_net(x, keep_prob)\n",
    "\n",
    "# Name logits Tensor, so that is can be loaded from disk after training\n",
    "logits = tf.identity(logits, name='logits')\n",
    "\n",
    "# Loss and Optimizer\n",
    "cost = tf.reduce_mean(tf.nn.softmax_cross_entropy_with_logits(logits=logits, labels=y))\n",
    "optimizer = tf.train.AdamOptimizer(1e-4).minimize(cost)\n",
    "\n",
    "# Accuracy\n",
    "correct_pred = tf.equal(tf.argmax(logits, 1), tf.argmax(y, 1))\n",
    "accuracy = tf.reduce_mean(tf.cast(correct_pred, tf.float32), name='accuracy')\n",
    "\n",
    "tests.test_conv_net(conv_net)"
   ]
  },
  {
   "cell_type": "markdown",
   "metadata": {},
   "source": [
    "## Train the Neural Network\n",
    "### Single Optimization\n",
    "Implement the function `train_neural_network` to do a single optimization.  The optimization should use `optimizer` to optimize in `session` with a `feed_dict` of the following:\n",
    "* `x` for image input\n",
    "* `y` for labels\n",
    "* `keep_prob` for keep probability for dropout\n",
    "\n",
    "This function will be called for each batch, so `tf.global_variables_initializer()` has already been called.\n",
    "\n",
    "Note: Nothing needs to be returned. This function is only optimizing the neural network."
   ]
  },
  {
   "cell_type": "code",
   "execution_count": 29,
   "metadata": {},
   "outputs": [
    {
     "name": "stdout",
     "output_type": "stream",
     "text": [
      "Tests Passed\n"
     ]
    }
   ],
   "source": [
    "def train_neural_network(session, optimizer, keep_probability, feature_batch, label_batch):\n",
    "    \"\"\"\n",
    "    Optimize the session on a batch of images and labels\n",
    "    : session: Current TensorFlow session\n",
    "    : optimizer: TensorFlow optimizer function\n",
    "    : keep_probability: keep probability\n",
    "    : feature_batch: Batch of Numpy image data\n",
    "    : label_batch: Batch of Numpy label data\n",
    "    \"\"\"\n",
    "    # TODO: Implement Function\n",
    "    session.run(optimizer, feed_dict={keep_prob:keep_probability, x:feature_batch, y:label_batch})\n",
    "    \n",
    "\n",
    "\n",
    "\"\"\"\n",
    "DON'T MODIFY ANYTHING IN THIS CELL THAT IS BELOW THIS LINE\n",
    "\"\"\"\n",
    "tests.test_train_nn(train_neural_network)"
   ]
  },
  {
   "cell_type": "markdown",
   "metadata": {},
   "source": [
    "### Show Stats\n",
    "Implement the function `print_stats` to print loss and validation accuracy.  Use the global variables `valid_features` and `valid_labels` to calculate validation accuracy.  Use a keep probability of `1.0` to calculate the loss and validation accuracy."
   ]
  },
  {
   "cell_type": "code",
   "execution_count": 30,
   "metadata": {
    "collapsed": true
   },
   "outputs": [],
   "source": [
    "def print_stats(session, feature_batch, label_batch, cost, accuracy):\n",
    "    \"\"\"\n",
    "    Print information about loss and validation accuracy\n",
    "    : session: Current TensorFlow session\n",
    "    : feature_batch: Batch of Numpy image data\n",
    "    : label_batch: Batch of Numpy label data\n",
    "    : cost: TensorFlow cost function\n",
    "    : accuracy: TensorFlow accuracy function\n",
    "    \"\"\"\n",
    "    # TODO: Implement Function\n",
    "    feed_cost = {keep_prob:1.0, x:feature_batch, y:label_batch}\n",
    "    feed_valid = {keep_prob:1.0, x:valid_features, y:valid_labels}\n",
    "    cost = session.run(cost, feed_dict=feed_cost)\n",
    "    accuracy = session.run(accuracy, feed_dict=feed_valid)\n",
    "    print(\"Cost: {} | Accuracy: {}\".format(cost, accuracy))"
   ]
  },
  {
   "cell_type": "markdown",
   "metadata": {},
   "source": [
    "### Hyperparameters\n",
    "Tune the following parameters:\n",
    "* Set `epochs` to the number of iterations until the network stops learning or start overfitting\n",
    "* Set `batch_size` to the highest number that your machine has memory for.  Most people set them to common sizes of memory:\n",
    " * 64\n",
    " * 128\n",
    " * 256\n",
    " * ...\n",
    "* Set `keep_probability` to the probability of keeping a node using dropout"
   ]
  },
  {
   "cell_type": "code",
   "execution_count": 53,
   "metadata": {
    "collapsed": true
   },
   "outputs": [],
   "source": [
    "# TODO: Tune Parameters\n",
    "epochs = 50\n",
    "batch_size = 8\n",
    "keep_probability = 0.25"
   ]
  },
  {
   "cell_type": "markdown",
   "metadata": {},
   "source": [
    "### Train on a Single CIFAR-10 Batch\n",
    "Instead of training the neural network on all the CIFAR-10 batches of data, let's use a single batch. This should save time while you iterate on the model to get a better accuracy.  Once the final validation accuracy is 50% or greater, run the model on all the data in the next section."
   ]
  },
  {
   "cell_type": "code",
   "execution_count": 52,
   "metadata": {},
   "outputs": [
    {
     "name": "stdout",
     "output_type": "stream",
     "text": [
      "Checking the Training on a Single Batch...\n",
      "Epoch  1, CIFAR-10 Batch 1:  Cost: 1.769496202468872 | Accuracy: 0.39139997959136963\n",
      "Epoch  2, CIFAR-10 Batch 1:  Cost: 1.5224045515060425 | Accuracy: 0.44039997458457947\n",
      "Epoch  3, CIFAR-10 Batch 1:  Cost: 1.3364896774291992 | Accuracy: 0.49459996819496155\n",
      "Epoch  4, CIFAR-10 Batch 1:  Cost: 1.3268094062805176 | Accuracy: 0.5167999267578125\n",
      "Epoch  5, CIFAR-10 Batch 1:  Cost: 1.2589490413665771 | Accuracy: 0.5335999131202698\n"
     ]
    },
    {
     "ename": "KeyboardInterrupt",
     "evalue": "",
     "output_type": "error",
     "traceback": [
      "\u001b[0;31m---------------------------------------------------------------------------\u001b[0m",
      "\u001b[0;31mKeyboardInterrupt\u001b[0m                         Traceback (most recent call last)",
      "\u001b[0;32m<ipython-input-52-0ebd1bbc35ad>\u001b[0m in \u001b[0;36m<module>\u001b[0;34m()\u001b[0m\n\u001b[1;32m     11\u001b[0m         \u001b[0mbatch_i\u001b[0m \u001b[0;34m=\u001b[0m \u001b[0;36m1\u001b[0m\u001b[0;34m\u001b[0m\u001b[0m\n\u001b[1;32m     12\u001b[0m         \u001b[0;32mfor\u001b[0m \u001b[0mbatch_features\u001b[0m\u001b[0;34m,\u001b[0m \u001b[0mbatch_labels\u001b[0m \u001b[0;32min\u001b[0m \u001b[0mhelper\u001b[0m\u001b[0;34m.\u001b[0m\u001b[0mload_preprocess_training_batch\u001b[0m\u001b[0;34m(\u001b[0m\u001b[0mbatch_i\u001b[0m\u001b[0;34m,\u001b[0m \u001b[0mbatch_size\u001b[0m\u001b[0;34m)\u001b[0m\u001b[0;34m:\u001b[0m\u001b[0;34m\u001b[0m\u001b[0m\n\u001b[0;32m---> 13\u001b[0;31m             \u001b[0mtrain_neural_network\u001b[0m\u001b[0;34m(\u001b[0m\u001b[0msess\u001b[0m\u001b[0;34m,\u001b[0m \u001b[0moptimizer\u001b[0m\u001b[0;34m,\u001b[0m \u001b[0mkeep_probability\u001b[0m\u001b[0;34m,\u001b[0m \u001b[0mbatch_features\u001b[0m\u001b[0;34m,\u001b[0m \u001b[0mbatch_labels\u001b[0m\u001b[0;34m)\u001b[0m\u001b[0;34m\u001b[0m\u001b[0m\n\u001b[0m\u001b[1;32m     14\u001b[0m         \u001b[0mprint\u001b[0m\u001b[0;34m(\u001b[0m\u001b[0;34m'Epoch {:>2}, CIFAR-10 Batch {}:  '\u001b[0m\u001b[0;34m.\u001b[0m\u001b[0mformat\u001b[0m\u001b[0;34m(\u001b[0m\u001b[0mepoch\u001b[0m \u001b[0;34m+\u001b[0m \u001b[0;36m1\u001b[0m\u001b[0;34m,\u001b[0m \u001b[0mbatch_i\u001b[0m\u001b[0;34m)\u001b[0m\u001b[0;34m,\u001b[0m \u001b[0mend\u001b[0m\u001b[0;34m=\u001b[0m\u001b[0;34m''\u001b[0m\u001b[0;34m)\u001b[0m\u001b[0;34m\u001b[0m\u001b[0m\n\u001b[1;32m     15\u001b[0m         \u001b[0mprint_stats\u001b[0m\u001b[0;34m(\u001b[0m\u001b[0msess\u001b[0m\u001b[0;34m,\u001b[0m \u001b[0mbatch_features\u001b[0m\u001b[0;34m,\u001b[0m \u001b[0mbatch_labels\u001b[0m\u001b[0;34m,\u001b[0m \u001b[0mcost\u001b[0m\u001b[0;34m,\u001b[0m \u001b[0maccuracy\u001b[0m\u001b[0;34m)\u001b[0m\u001b[0;34m\u001b[0m\u001b[0m\n",
      "\u001b[0;32m<ipython-input-29-c564ca84afef>\u001b[0m in \u001b[0;36mtrain_neural_network\u001b[0;34m(session, optimizer, keep_probability, feature_batch, label_batch)\u001b[0m\n\u001b[1;32m      9\u001b[0m     \"\"\"\n\u001b[1;32m     10\u001b[0m     \u001b[0;31m# TODO: Implement Function\u001b[0m\u001b[0;34m\u001b[0m\u001b[0;34m\u001b[0m\u001b[0m\n\u001b[0;32m---> 11\u001b[0;31m     \u001b[0msession\u001b[0m\u001b[0;34m.\u001b[0m\u001b[0mrun\u001b[0m\u001b[0;34m(\u001b[0m\u001b[0moptimizer\u001b[0m\u001b[0;34m,\u001b[0m \u001b[0mfeed_dict\u001b[0m\u001b[0;34m=\u001b[0m\u001b[0;34m{\u001b[0m\u001b[0mkeep_prob\u001b[0m\u001b[0;34m:\u001b[0m\u001b[0mkeep_probability\u001b[0m\u001b[0;34m,\u001b[0m \u001b[0mx\u001b[0m\u001b[0;34m:\u001b[0m\u001b[0mfeature_batch\u001b[0m\u001b[0;34m,\u001b[0m \u001b[0my\u001b[0m\u001b[0;34m:\u001b[0m\u001b[0mlabel_batch\u001b[0m\u001b[0;34m}\u001b[0m\u001b[0;34m)\u001b[0m\u001b[0;34m\u001b[0m\u001b[0m\n\u001b[0m\u001b[1;32m     12\u001b[0m \u001b[0;34m\u001b[0m\u001b[0m\n\u001b[1;32m     13\u001b[0m \u001b[0;34m\u001b[0m\u001b[0m\n",
      "\u001b[0;32m/usr/local/lib/python3.5/site-packages/tensorflow/python/client/session.py\u001b[0m in \u001b[0;36mrun\u001b[0;34m(self, fetches, feed_dict, options, run_metadata)\u001b[0m\n\u001b[1;32m    776\u001b[0m     \u001b[0;32mtry\u001b[0m\u001b[0;34m:\u001b[0m\u001b[0;34m\u001b[0m\u001b[0m\n\u001b[1;32m    777\u001b[0m       result = self._run(None, fetches, feed_dict, options_ptr,\n\u001b[0;32m--> 778\u001b[0;31m                          run_metadata_ptr)\n\u001b[0m\u001b[1;32m    779\u001b[0m       \u001b[0;32mif\u001b[0m \u001b[0mrun_metadata\u001b[0m\u001b[0;34m:\u001b[0m\u001b[0;34m\u001b[0m\u001b[0m\n\u001b[1;32m    780\u001b[0m         \u001b[0mproto_data\u001b[0m \u001b[0;34m=\u001b[0m \u001b[0mtf_session\u001b[0m\u001b[0;34m.\u001b[0m\u001b[0mTF_GetBuffer\u001b[0m\u001b[0;34m(\u001b[0m\u001b[0mrun_metadata_ptr\u001b[0m\u001b[0;34m)\u001b[0m\u001b[0;34m\u001b[0m\u001b[0m\n",
      "\u001b[0;32m/usr/local/lib/python3.5/site-packages/tensorflow/python/client/session.py\u001b[0m in \u001b[0;36m_run\u001b[0;34m(self, handle, fetches, feed_dict, options, run_metadata)\u001b[0m\n\u001b[1;32m    980\u001b[0m     \u001b[0;32mif\u001b[0m \u001b[0mfinal_fetches\u001b[0m \u001b[0;32mor\u001b[0m \u001b[0mfinal_targets\u001b[0m\u001b[0;34m:\u001b[0m\u001b[0;34m\u001b[0m\u001b[0m\n\u001b[1;32m    981\u001b[0m       results = self._do_run(handle, final_targets, final_fetches,\n\u001b[0;32m--> 982\u001b[0;31m                              feed_dict_string, options, run_metadata)\n\u001b[0m\u001b[1;32m    983\u001b[0m     \u001b[0;32melse\u001b[0m\u001b[0;34m:\u001b[0m\u001b[0;34m\u001b[0m\u001b[0m\n\u001b[1;32m    984\u001b[0m       \u001b[0mresults\u001b[0m \u001b[0;34m=\u001b[0m \u001b[0;34m[\u001b[0m\u001b[0;34m]\u001b[0m\u001b[0;34m\u001b[0m\u001b[0m\n",
      "\u001b[0;32m/usr/local/lib/python3.5/site-packages/tensorflow/python/client/session.py\u001b[0m in \u001b[0;36m_do_run\u001b[0;34m(self, handle, target_list, fetch_list, feed_dict, options, run_metadata)\u001b[0m\n\u001b[1;32m   1030\u001b[0m     \u001b[0;32mif\u001b[0m \u001b[0mhandle\u001b[0m \u001b[0;32mis\u001b[0m \u001b[0;32mNone\u001b[0m\u001b[0;34m:\u001b[0m\u001b[0;34m\u001b[0m\u001b[0m\n\u001b[1;32m   1031\u001b[0m       return self._do_call(_run_fn, self._session, feed_dict, fetch_list,\n\u001b[0;32m-> 1032\u001b[0;31m                            target_list, options, run_metadata)\n\u001b[0m\u001b[1;32m   1033\u001b[0m     \u001b[0;32melse\u001b[0m\u001b[0;34m:\u001b[0m\u001b[0;34m\u001b[0m\u001b[0m\n\u001b[1;32m   1034\u001b[0m       return self._do_call(_prun_fn, self._session, handle, feed_dict,\n",
      "\u001b[0;32m/usr/local/lib/python3.5/site-packages/tensorflow/python/client/session.py\u001b[0m in \u001b[0;36m_do_call\u001b[0;34m(self, fn, *args)\u001b[0m\n\u001b[1;32m   1037\u001b[0m   \u001b[0;32mdef\u001b[0m \u001b[0m_do_call\u001b[0m\u001b[0;34m(\u001b[0m\u001b[0mself\u001b[0m\u001b[0;34m,\u001b[0m \u001b[0mfn\u001b[0m\u001b[0;34m,\u001b[0m \u001b[0;34m*\u001b[0m\u001b[0margs\u001b[0m\u001b[0;34m)\u001b[0m\u001b[0;34m:\u001b[0m\u001b[0;34m\u001b[0m\u001b[0m\n\u001b[1;32m   1038\u001b[0m     \u001b[0;32mtry\u001b[0m\u001b[0;34m:\u001b[0m\u001b[0;34m\u001b[0m\u001b[0m\n\u001b[0;32m-> 1039\u001b[0;31m       \u001b[0;32mreturn\u001b[0m \u001b[0mfn\u001b[0m\u001b[0;34m(\u001b[0m\u001b[0;34m*\u001b[0m\u001b[0margs\u001b[0m\u001b[0;34m)\u001b[0m\u001b[0;34m\u001b[0m\u001b[0m\n\u001b[0m\u001b[1;32m   1040\u001b[0m     \u001b[0;32mexcept\u001b[0m \u001b[0merrors\u001b[0m\u001b[0;34m.\u001b[0m\u001b[0mOpError\u001b[0m \u001b[0;32mas\u001b[0m \u001b[0me\u001b[0m\u001b[0;34m:\u001b[0m\u001b[0;34m\u001b[0m\u001b[0m\n\u001b[1;32m   1041\u001b[0m       \u001b[0mmessage\u001b[0m \u001b[0;34m=\u001b[0m \u001b[0mcompat\u001b[0m\u001b[0;34m.\u001b[0m\u001b[0mas_text\u001b[0m\u001b[0;34m(\u001b[0m\u001b[0me\u001b[0m\u001b[0;34m.\u001b[0m\u001b[0mmessage\u001b[0m\u001b[0;34m)\u001b[0m\u001b[0;34m\u001b[0m\u001b[0m\n",
      "\u001b[0;32m/usr/local/lib/python3.5/site-packages/tensorflow/python/client/session.py\u001b[0m in \u001b[0;36m_run_fn\u001b[0;34m(session, feed_dict, fetch_list, target_list, options, run_metadata)\u001b[0m\n\u001b[1;32m   1019\u001b[0m         return tf_session.TF_Run(session, options,\n\u001b[1;32m   1020\u001b[0m                                  \u001b[0mfeed_dict\u001b[0m\u001b[0;34m,\u001b[0m \u001b[0mfetch_list\u001b[0m\u001b[0;34m,\u001b[0m \u001b[0mtarget_list\u001b[0m\u001b[0;34m,\u001b[0m\u001b[0;34m\u001b[0m\u001b[0m\n\u001b[0;32m-> 1021\u001b[0;31m                                  status, run_metadata)\n\u001b[0m\u001b[1;32m   1022\u001b[0m \u001b[0;34m\u001b[0m\u001b[0m\n\u001b[1;32m   1023\u001b[0m     \u001b[0;32mdef\u001b[0m \u001b[0m_prun_fn\u001b[0m\u001b[0;34m(\u001b[0m\u001b[0msession\u001b[0m\u001b[0;34m,\u001b[0m \u001b[0mhandle\u001b[0m\u001b[0;34m,\u001b[0m \u001b[0mfeed_dict\u001b[0m\u001b[0;34m,\u001b[0m \u001b[0mfetch_list\u001b[0m\u001b[0;34m)\u001b[0m\u001b[0;34m:\u001b[0m\u001b[0;34m\u001b[0m\u001b[0m\n",
      "\u001b[0;31mKeyboardInterrupt\u001b[0m: "
     ]
    }
   ],
   "source": [
    "\"\"\"\n",
    "DON'T MODIFY ANYTHING IN THIS CELL\n",
    "\"\"\"\n",
    "print('Checking the Training on a Single Batch...')\n",
    "with tf.Session() as sess:\n",
    "    # Initializing the variables\n",
    "    sess.run(tf.global_variables_initializer())\n",
    "    \n",
    "    # Training cycle\n",
    "    for epoch in range(epochs):\n",
    "        batch_i = 1\n",
    "        for batch_features, batch_labels in helper.load_preprocess_training_batch(batch_i, batch_size):\n",
    "            train_neural_network(sess, optimizer, keep_probability, batch_features, batch_labels)\n",
    "        print('Epoch {:>2}, CIFAR-10 Batch {}:  '.format(epoch + 1, batch_i), end='')\n",
    "        print_stats(sess, batch_features, batch_labels, cost, accuracy)"
   ]
  },
  {
   "cell_type": "markdown",
   "metadata": {},
   "source": [
    "### Fully Train the Model\n",
    "Now that you got a good accuracy with a single CIFAR-10 batch, try it with all five batches."
   ]
  },
  {
   "cell_type": "code",
   "execution_count": 54,
   "metadata": {},
   "outputs": [
    {
     "name": "stdout",
     "output_type": "stream",
     "text": [
      "Training...\n",
      "Epoch  1, CIFAR-10 Batch 1:  Cost: 1.741231083869934 | Accuracy: 0.39639997482299805\n",
      "Epoch  1, CIFAR-10 Batch 2:  Cost: 1.839640736579895 | Accuracy: 0.41439998149871826\n",
      "Epoch  1, CIFAR-10 Batch 3:  Cost: 1.222062110900879 | Accuracy: 0.48979997634887695\n",
      "Epoch  1, CIFAR-10 Batch 4:  Cost: 1.5307217836380005 | Accuracy: 0.5189999341964722\n",
      "Epoch  1, CIFAR-10 Batch 5:  Cost: 1.554296851158142 | Accuracy: 0.5509999394416809\n",
      "Epoch  2, CIFAR-10 Batch 1:  Cost: 1.2307381629943848 | Accuracy: 0.5629999041557312\n",
      "Epoch  2, CIFAR-10 Batch 2:  Cost: 1.0965447425842285 | Accuracy: 0.5693999528884888\n",
      "Epoch  2, CIFAR-10 Batch 3:  Cost: 1.0691312551498413 | Accuracy: 0.598599910736084\n",
      "Epoch  2, CIFAR-10 Batch 4:  Cost: 1.0414419174194336 | Accuracy: 0.6077998876571655\n",
      "Epoch  2, CIFAR-10 Batch 5:  Cost: 1.4587557315826416 | Accuracy: 0.6257998943328857\n",
      "Epoch  3, CIFAR-10 Batch 1:  Cost: 1.2394893169403076 | Accuracy: 0.6385998725891113\n",
      "Epoch  3, CIFAR-10 Batch 2:  Cost: 0.7732781767845154 | Accuracy: 0.6197998523712158\n",
      "Epoch  3, CIFAR-10 Batch 3:  Cost: 0.7305973768234253 | Accuracy: 0.6493998765945435\n",
      "Epoch  3, CIFAR-10 Batch 4:  Cost: 0.8561029434204102 | Accuracy: 0.6597999334335327\n",
      "Epoch  3, CIFAR-10 Batch 5:  Cost: 1.289229154586792 | Accuracy: 0.673399806022644\n",
      "Epoch  4, CIFAR-10 Batch 1:  Cost: 1.0434954166412354 | Accuracy: 0.6663998365402222\n",
      "Epoch  4, CIFAR-10 Batch 2:  Cost: 0.6003841161727905 | Accuracy: 0.6671999096870422\n",
      "Epoch  4, CIFAR-10 Batch 3:  Cost: 0.48105084896087646 | Accuracy: 0.6719998717308044\n",
      "Epoch  4, CIFAR-10 Batch 4:  Cost: 0.6177845597267151 | Accuracy: 0.6663998365402222\n",
      "Epoch  4, CIFAR-10 Batch 5:  Cost: 1.1616822481155396 | Accuracy: 0.6879998445510864\n",
      "Epoch  5, CIFAR-10 Batch 1:  Cost: 0.7997245788574219 | Accuracy: 0.6807998418807983\n",
      "Epoch  5, CIFAR-10 Batch 2:  Cost: 0.47616857290267944 | Accuracy: 0.6809998750686646\n",
      "Epoch  5, CIFAR-10 Batch 3:  Cost: 0.3860749900341034 | Accuracy: 0.6901998519897461\n",
      "Epoch  5, CIFAR-10 Batch 4:  Cost: 0.35770660638809204 | Accuracy: 0.7039998769760132\n",
      "Epoch  5, CIFAR-10 Batch 5:  Cost: 0.7118547558784485 | Accuracy: 0.7115998268127441\n",
      "Epoch  6, CIFAR-10 Batch 1:  Cost: 0.6388885974884033 | Accuracy: 0.6903998851776123\n",
      "Epoch  6, CIFAR-10 Batch 2:  Cost: 0.41459202766418457 | Accuracy: 0.686599850654602\n",
      "Epoch  6, CIFAR-10 Batch 3:  Cost: 0.2621361315250397 | Accuracy: 0.6973998546600342\n",
      "Epoch  6, CIFAR-10 Batch 4:  Cost: 0.2714398503303528 | Accuracy: 0.7035998106002808\n",
      "Epoch  6, CIFAR-10 Batch 5:  Cost: 0.48430824279785156 | Accuracy: 0.7021998167037964\n",
      "Epoch  7, CIFAR-10 Batch 1:  Cost: 0.5054922103881836 | Accuracy: 0.7099998593330383\n",
      "Epoch  7, CIFAR-10 Batch 2:  Cost: 0.20602057874202728 | Accuracy: 0.7001999616622925\n",
      "Epoch  7, CIFAR-10 Batch 3:  Cost: 0.2673589289188385 | Accuracy: 0.7059998512268066\n",
      "Epoch  7, CIFAR-10 Batch 4:  Cost: 0.2250640094280243 | Accuracy: 0.7073997855186462\n",
      "Epoch  7, CIFAR-10 Batch 5:  Cost: 0.30167460441589355 | Accuracy: 0.6993999481201172\n",
      "Epoch  8, CIFAR-10 Batch 1:  Cost: 0.25446993112564087 | Accuracy: 0.7035998106002808\n",
      "Epoch  8, CIFAR-10 Batch 2:  Cost: 0.1290382295846939 | Accuracy: 0.693199872970581\n",
      "Epoch  8, CIFAR-10 Batch 3:  Cost: 0.20883303880691528 | Accuracy: 0.7035998106002808\n",
      "Epoch  8, CIFAR-10 Batch 4:  Cost: 0.30306142568588257 | Accuracy: 0.7027997970581055\n",
      "Epoch  8, CIFAR-10 Batch 5:  Cost: 0.21937984228134155 | Accuracy: 0.7113998532295227\n",
      "Epoch  9, CIFAR-10 Batch 1:  Cost: 0.13578808307647705 | Accuracy: 0.6989998817443848\n",
      "Epoch  9, CIFAR-10 Batch 2:  Cost: 0.07493234425783157 | Accuracy: 0.7045998573303223\n",
      "Epoch  9, CIFAR-10 Batch 3:  Cost: 0.17148268222808838 | Accuracy: 0.6969998478889465\n",
      "Epoch  9, CIFAR-10 Batch 4:  Cost: 0.07266458868980408 | Accuracy: 0.7109998464584351\n",
      "Epoch  9, CIFAR-10 Batch 5:  Cost: 0.13028112053871155 | Accuracy: 0.7049998641014099\n",
      "Epoch 10, CIFAR-10 Batch 1:  Cost: 0.054487451910972595 | Accuracy: 0.7081998586654663\n",
      "Epoch 10, CIFAR-10 Batch 2:  Cost: 0.06851174682378769 | Accuracy: 0.6979998350143433\n",
      "Epoch 10, CIFAR-10 Batch 3:  Cost: 0.10980577766895294 | Accuracy: 0.7005998492240906\n",
      "Epoch 10, CIFAR-10 Batch 4:  Cost: 0.11422548443078995 | Accuracy: 0.7089998722076416\n",
      "Epoch 10, CIFAR-10 Batch 5:  Cost: 0.10710859298706055 | Accuracy: 0.7039998769760132\n",
      "Epoch 11, CIFAR-10 Batch 1:  Cost: 0.060711730271577835 | Accuracy: 0.7029998898506165\n",
      "Epoch 11, CIFAR-10 Batch 2:  Cost: 0.05492311343550682 | Accuracy: 0.697199821472168\n",
      "Epoch 11, CIFAR-10 Batch 3:  Cost: 0.08517861366271973 | Accuracy: 0.7037999033927917\n",
      "Epoch 11, CIFAR-10 Batch 4:  Cost: 0.056136757135391235 | Accuracy: 0.6959998607635498\n",
      "Epoch 11, CIFAR-10 Batch 5:  Cost: 0.06345530599355698 | Accuracy: 0.6861999034881592\n",
      "Epoch 12, CIFAR-10 Batch 1:  Cost: 0.04030574858188629 | Accuracy: 0.6951999068260193\n",
      "Epoch 12, CIFAR-10 Batch 2:  Cost: 0.0037065481301397085 | Accuracy: 0.7021998167037964\n",
      "Epoch 12, CIFAR-10 Batch 3:  Cost: 0.03257269784808159 | Accuracy: 0.697799801826477\n",
      "Epoch 12, CIFAR-10 Batch 4:  Cost: 0.06865181773900986 | Accuracy: 0.7011998891830444\n",
      "Epoch 12, CIFAR-10 Batch 5:  Cost: 0.11785837262868881 | Accuracy: 0.7003998160362244\n",
      "Epoch 13, CIFAR-10 Batch 1:  Cost: 0.013973851688206196 | Accuracy: 0.7063999176025391\n",
      "Epoch 13, CIFAR-10 Batch 2:  Cost: 0.012878363952040672 | Accuracy: 0.7023998498916626\n",
      "Epoch 13, CIFAR-10 Batch 3:  Cost: 0.040006592869758606 | Accuracy: 0.6937999129295349\n",
      "Epoch 13, CIFAR-10 Batch 4:  Cost: 0.029372619464993477 | Accuracy: 0.7053998708724976\n",
      "Epoch 13, CIFAR-10 Batch 5:  Cost: 0.013453187420964241 | Accuracy: 0.691399872303009\n",
      "Epoch 14, CIFAR-10 Batch 1:  Cost: 0.02108748070895672 | Accuracy: 0.6871998906135559\n",
      "Epoch 14, CIFAR-10 Batch 2:  Cost: 0.005299079697579145 | Accuracy: 0.7183998227119446\n",
      "Epoch 14, CIFAR-10 Batch 3:  Cost: 0.016921184957027435 | Accuracy: 0.702599823474884\n",
      "Epoch 14, CIFAR-10 Batch 4:  Cost: 0.013154476881027222 | Accuracy: 0.7107998728752136\n",
      "Epoch 14, CIFAR-10 Batch 5:  Cost: 0.004712339490652084 | Accuracy: 0.6967998743057251\n",
      "Epoch 15, CIFAR-10 Batch 1:  Cost: 0.004182524513453245 | Accuracy: 0.7105998396873474\n",
      "Epoch 15, CIFAR-10 Batch 2:  Cost: 0.0015517240390181541 | Accuracy: 0.703799843788147\n",
      "Epoch 15, CIFAR-10 Batch 3:  Cost: 0.05685292184352875 | Accuracy: 0.6911998987197876\n",
      "Epoch 15, CIFAR-10 Batch 4:  Cost: 0.01234017126262188 | Accuracy: 0.7011998295783997\n",
      "Epoch 15, CIFAR-10 Batch 5:  Cost: 0.0038791752886027098 | Accuracy: 0.7073999047279358\n",
      "Epoch 16, CIFAR-10 Batch 1:  Cost: 0.0908287912607193 | Accuracy: 0.7083998918533325\n",
      "Epoch 16, CIFAR-10 Batch 2:  Cost: 0.0023062590043991804 | Accuracy: 0.7039998769760132\n",
      "Epoch 16, CIFAR-10 Batch 3:  Cost: 0.002860741224139929 | Accuracy: 0.7065998315811157\n",
      "Epoch 16, CIFAR-10 Batch 4:  Cost: 0.012957260943949223 | Accuracy: 0.6949998140335083\n",
      "Epoch 16, CIFAR-10 Batch 5:  Cost: 0.009586066007614136 | Accuracy: 0.7063998579978943\n",
      "Epoch 17, CIFAR-10 Batch 1:  Cost: 0.0031827634666115046 | Accuracy: 0.7075998187065125\n",
      "Epoch 17, CIFAR-10 Batch 2:  Cost: 0.015213637612760067 | Accuracy: 0.7041999101638794\n",
      "Epoch 17, CIFAR-10 Batch 3:  Cost: 0.03617507591843605 | Accuracy: 0.7045997977256775\n",
      "Epoch 17, CIFAR-10 Batch 4:  Cost: 0.006578047294169664 | Accuracy: 0.7025998830795288\n",
      "Epoch 17, CIFAR-10 Batch 5:  Cost: 0.04568147659301758 | Accuracy: 0.7029998898506165\n",
      "Epoch 18, CIFAR-10 Batch 1:  Cost: 0.004371869843453169 | Accuracy: 0.6999998688697815\n",
      "Epoch 18, CIFAR-10 Batch 2:  Cost: 0.001529413741081953 | Accuracy: 0.7113998532295227\n",
      "Epoch 18, CIFAR-10 Batch 3:  Cost: 0.0021461760625243187 | Accuracy: 0.7101998329162598\n",
      "Epoch 18, CIFAR-10 Batch 4:  Cost: 0.009337864816188812 | Accuracy: 0.7051998376846313\n",
      "Epoch 18, CIFAR-10 Batch 5:  Cost: 0.027272913604974747 | Accuracy: 0.7009998559951782\n",
      "Epoch 19, CIFAR-10 Batch 1:  Cost: 0.0015177058521658182 | Accuracy: 0.6975998282432556\n",
      "Epoch 19, CIFAR-10 Batch 2:  Cost: 0.005739581771194935 | Accuracy: 0.7095999121665955\n",
      "Epoch 19, CIFAR-10 Batch 3:  Cost: 0.001505380030721426 | Accuracy: 0.7085998058319092\n",
      "Epoch 19, CIFAR-10 Batch 4:  Cost: 0.052621372044086456 | Accuracy: 0.7017998695373535\n",
      "Epoch 19, CIFAR-10 Batch 5:  Cost: 0.022954953834414482 | Accuracy: 0.7027998566627502\n"
     ]
    },
    {
     "name": "stdout",
     "output_type": "stream",
     "text": [
      "Epoch 20, CIFAR-10 Batch 1:  Cost: 0.03487209975719452 | Accuracy: 0.6861998438835144\n",
      "Epoch 20, CIFAR-10 Batch 2:  Cost: 0.0005762664368376136 | Accuracy: 0.703999936580658\n",
      "Epoch 20, CIFAR-10 Batch 3:  Cost: 0.002988051623106003 | Accuracy: 0.6997998952865601\n",
      "Epoch 20, CIFAR-10 Batch 4:  Cost: 0.00598040409386158 | Accuracy: 0.7059998512268066\n",
      "Epoch 20, CIFAR-10 Batch 5:  Cost: 0.006798829883337021 | Accuracy: 0.6891998648643494\n",
      "Epoch 21, CIFAR-10 Batch 1:  Cost: 0.0004937159828841686 | Accuracy: 0.7057998776435852\n",
      "Epoch 21, CIFAR-10 Batch 2:  Cost: 0.0015935188857838511 | Accuracy: 0.7103998064994812\n",
      "Epoch 21, CIFAR-10 Batch 3:  Cost: 0.0038104786071926355 | Accuracy: 0.7095998525619507\n",
      "Epoch 21, CIFAR-10 Batch 4:  Cost: 0.025012968108057976 | Accuracy: 0.7059998512268066\n",
      "Epoch 21, CIFAR-10 Batch 5:  Cost: 0.007874476723372936 | Accuracy: 0.7117998600006104\n",
      "Epoch 22, CIFAR-10 Batch 1:  Cost: 0.00022960745263844728 | Accuracy: 0.7071998119354248\n",
      "Epoch 22, CIFAR-10 Batch 2:  Cost: 0.0021526399068534374 | Accuracy: 0.7035998702049255\n",
      "Epoch 22, CIFAR-10 Batch 3:  Cost: 0.018501976504921913 | Accuracy: 0.7099998593330383\n",
      "Epoch 22, CIFAR-10 Batch 4:  Cost: 0.001477199257351458 | Accuracy: 0.7117998600006104\n",
      "Epoch 22, CIFAR-10 Batch 5:  Cost: 0.0006366653251461685 | Accuracy: 0.6965999007225037\n",
      "Epoch 23, CIFAR-10 Batch 1:  Cost: 0.0006498707225546241 | Accuracy: 0.6909998655319214\n",
      "Epoch 23, CIFAR-10 Batch 2:  Cost: 0.0003295595815870911 | Accuracy: 0.7009998559951782\n",
      "Epoch 23, CIFAR-10 Batch 3:  Cost: 0.008708535693585873 | Accuracy: 0.7071998119354248\n",
      "Epoch 23, CIFAR-10 Batch 4:  Cost: 0.0011156646069139242 | Accuracy: 0.7061998844146729\n",
      "Epoch 23, CIFAR-10 Batch 5:  Cost: 0.0007219991530291736 | Accuracy: 0.7173998951911926\n",
      "Epoch 24, CIFAR-10 Batch 1:  Cost: 0.032563306391239166 | Accuracy: 0.7149999141693115\n",
      "Epoch 24, CIFAR-10 Batch 2:  Cost: 0.002419981174170971 | Accuracy: 0.7173998355865479\n",
      "Epoch 24, CIFAR-10 Batch 3:  Cost: 0.000750989536754787 | Accuracy: 0.700799822807312\n",
      "Epoch 24, CIFAR-10 Batch 4:  Cost: 0.01545078493654728 | Accuracy: 0.7101998329162598\n",
      "Epoch 24, CIFAR-10 Batch 5:  Cost: 0.002285630675032735 | Accuracy: 0.7013998627662659\n",
      "Epoch 25, CIFAR-10 Batch 1:  Cost: 0.00021927873603999615 | Accuracy: 0.7017999291419983\n",
      "Epoch 25, CIFAR-10 Batch 2:  Cost: 0.000873798388056457 | Accuracy: 0.7043998837471008\n",
      "Epoch 25, CIFAR-10 Batch 3:  Cost: 0.0036501167342066765 | Accuracy: 0.7085998058319092\n",
      "Epoch 25, CIFAR-10 Batch 4:  Cost: 0.02602473273873329 | Accuracy: 0.7041998505592346\n",
      "Epoch 25, CIFAR-10 Batch 5:  Cost: 0.026319686323404312 | Accuracy: 0.7123998403549194\n",
      "Epoch 26, CIFAR-10 Batch 1:  Cost: 0.0014107406605035067 | Accuracy: 0.6975998878479004\n",
      "Epoch 26, CIFAR-10 Batch 2:  Cost: 0.002154094632714987 | Accuracy: 0.7027998566627502\n",
      "Epoch 26, CIFAR-10 Batch 3:  Cost: 0.022052016109228134 | Accuracy: 0.700999915599823\n",
      "Epoch 26, CIFAR-10 Batch 4:  Cost: 0.00011591953079914674 | Accuracy: 0.7119998335838318\n",
      "Epoch 26, CIFAR-10 Batch 5:  Cost: 0.011318004690110683 | Accuracy: 0.7117998600006104\n",
      "Epoch 27, CIFAR-10 Batch 1:  Cost: 0.0004871172714047134 | Accuracy: 0.7145999073982239\n",
      "Epoch 27, CIFAR-10 Batch 2:  Cost: 0.0003401783760637045 | Accuracy: 0.7177998423576355\n",
      "Epoch 27, CIFAR-10 Batch 3:  Cost: 0.037937965244054794 | Accuracy: 0.7001998424530029\n",
      "Epoch 27, CIFAR-10 Batch 4:  Cost: 0.00024271648726426065 | Accuracy: 0.7043998837471008\n",
      "Epoch 27, CIFAR-10 Batch 5:  Cost: 0.0004944700049236417 | Accuracy: 0.7021998763084412\n",
      "Epoch 28, CIFAR-10 Batch 1:  Cost: 0.015086710453033447 | Accuracy: 0.7097998261451721\n",
      "Epoch 28, CIFAR-10 Batch 2:  Cost: 0.00014332994760479778 | Accuracy: 0.7093998789787292\n",
      "Epoch 28, CIFAR-10 Batch 3:  Cost: 0.0007913566078059375 | Accuracy: 0.6903998255729675\n",
      "Epoch 28, CIFAR-10 Batch 4:  Cost: 0.00619311211630702 | Accuracy: 0.7129998803138733\n",
      "Epoch 28, CIFAR-10 Batch 5:  Cost: 0.008703486062586308 | Accuracy: 0.704399824142456\n",
      "Epoch 29, CIFAR-10 Batch 1:  Cost: 0.0008528907783329487 | Accuracy: 0.7101998329162598\n",
      "Epoch 29, CIFAR-10 Batch 2:  Cost: 0.04144340753555298 | Accuracy: 0.709199845790863\n",
      "Epoch 29, CIFAR-10 Batch 3:  Cost: 0.0016250322805717587 | Accuracy: 0.6905998587608337\n",
      "Epoch 29, CIFAR-10 Batch 4:  Cost: 0.005007150582969189 | Accuracy: 0.7091999053955078\n",
      "Epoch 29, CIFAR-10 Batch 5:  Cost: 0.000943397986702621 | Accuracy: 0.7191998362541199\n",
      "Epoch 30, CIFAR-10 Batch 1:  Cost: 0.00020580182899720967 | Accuracy: 0.712199866771698\n",
      "Epoch 30, CIFAR-10 Batch 2:  Cost: 0.024390893056988716 | Accuracy: 0.712199866771698\n",
      "Epoch 30, CIFAR-10 Batch 3:  Cost: 0.03662770986557007 | Accuracy: 0.7109998464584351\n",
      "Epoch 30, CIFAR-10 Batch 4:  Cost: 0.000650782894808799 | Accuracy: 0.6991998553276062\n",
      "Epoch 30, CIFAR-10 Batch 5:  Cost: 0.002124775666743517 | Accuracy: 0.7165998220443726\n",
      "Epoch 31, CIFAR-10 Batch 1:  Cost: 9.298172699345741e-06 | Accuracy: 0.7013999223709106\n",
      "Epoch 31, CIFAR-10 Batch 2:  Cost: 0.0024479960557073355 | Accuracy: 0.7129998207092285\n",
      "Epoch 31, CIFAR-10 Batch 3:  Cost: 1.5645877283532172e-05 | Accuracy: 0.7135998606681824\n",
      "Epoch 31, CIFAR-10 Batch 4:  Cost: 0.008987088687717915 | Accuracy: 0.6967998743057251\n",
      "Epoch 31, CIFAR-10 Batch 5:  Cost: 0.002459415001794696 | Accuracy: 0.7131998538970947\n",
      "Epoch 32, CIFAR-10 Batch 1:  Cost: 0.0008761950884945691 | Accuracy: 0.7123998999595642\n",
      "Epoch 32, CIFAR-10 Batch 2:  Cost: 0.0025646763388067484 | Accuracy: 0.7135998606681824\n",
      "Epoch 32, CIFAR-10 Batch 3:  Cost: 0.00027388017042540014 | Accuracy: 0.7173998355865479\n",
      "Epoch 32, CIFAR-10 Batch 4:  Cost: 0.006534812971949577 | Accuracy: 0.7107998728752136\n",
      "Epoch 32, CIFAR-10 Batch 5:  Cost: 0.0014948071911931038 | Accuracy: 0.7031998634338379\n",
      "Epoch 33, CIFAR-10 Batch 1:  Cost: 0.0018298386130481958 | Accuracy: 0.7049999237060547\n",
      "Epoch 33, CIFAR-10 Batch 2:  Cost: 0.0004722647718153894 | Accuracy: 0.7095998525619507\n",
      "Epoch 33, CIFAR-10 Batch 3:  Cost: 0.0011545891175046563 | Accuracy: 0.6997998356819153\n",
      "Epoch 33, CIFAR-10 Batch 4:  Cost: 0.00030406558653339744 | Accuracy: 0.7253998517990112\n",
      "Epoch 33, CIFAR-10 Batch 5:  Cost: 0.009284952655434608 | Accuracy: 0.7041998505592346\n",
      "Epoch 34, CIFAR-10 Batch 1:  Cost: 1.4363924492499791e-05 | Accuracy: 0.7109998464584351\n",
      "Epoch 34, CIFAR-10 Batch 2:  Cost: 0.009431518614292145 | Accuracy: 0.7143998742103577\n",
      "Epoch 34, CIFAR-10 Batch 3:  Cost: 0.0004193675995338708 | Accuracy: 0.7091999053955078\n",
      "Epoch 34, CIFAR-10 Batch 4:  Cost: 0.006313223857432604 | Accuracy: 0.7137998938560486\n",
      "Epoch 34, CIFAR-10 Batch 5:  Cost: 0.006739807780832052 | Accuracy: 0.7137998342514038\n",
      "Epoch 35, CIFAR-10 Batch 1:  Cost: 0.001790595124475658 | Accuracy: 0.7177998423576355\n",
      "Epoch 35, CIFAR-10 Batch 2:  Cost: 3.856061084661633e-05 | Accuracy: 0.714999794960022\n",
      "Epoch 35, CIFAR-10 Batch 3:  Cost: 0.0026908637955784798 | Accuracy: 0.7039998769760132\n",
      "Epoch 35, CIFAR-10 Batch 4:  Cost: 0.011402723379433155 | Accuracy: 0.7097998261451721\n",
      "Epoch 35, CIFAR-10 Batch 5:  Cost: 0.005087524652481079 | Accuracy: 0.7133998870849609\n",
      "Epoch 36, CIFAR-10 Batch 1:  Cost: 0.00040877549326978624 | Accuracy: 0.7107998132705688\n",
      "Epoch 36, CIFAR-10 Batch 2:  Cost: 0.0028154212050139904 | Accuracy: 0.7127998471260071\n",
      "Epoch 36, CIFAR-10 Batch 3:  Cost: 0.00890778936445713 | Accuracy: 0.7191998958587646\n",
      "Epoch 36, CIFAR-10 Batch 4:  Cost: 0.003516001394018531 | Accuracy: 0.7133998274803162\n",
      "Epoch 36, CIFAR-10 Batch 5:  Cost: 0.027983099222183228 | Accuracy: 0.7131998538970947\n",
      "Epoch 37, CIFAR-10 Batch 1:  Cost: 0.0002166245540138334 | Accuracy: 0.7221997976303101\n",
      "Epoch 37, CIFAR-10 Batch 2:  Cost: 0.00020457475329749286 | Accuracy: 0.7191998958587646\n",
      "Epoch 37, CIFAR-10 Batch 3:  Cost: 4.9020109145203605e-05 | Accuracy: 0.7123998403549194\n",
      "Epoch 37, CIFAR-10 Batch 4:  Cost: 0.02653043530881405 | Accuracy: 0.7019999027252197\n",
      "Epoch 37, CIFAR-10 Batch 5:  Cost: 4.55973349744454e-06 | Accuracy: 0.7063998579978943\n",
      "Epoch 38, CIFAR-10 Batch 1:  Cost: 3.185475361533463e-05 | Accuracy: 0.7073999047279358\n",
      "Epoch 38, CIFAR-10 Batch 2:  Cost: 4.0749851905275136e-05 | Accuracy: 0.716999888420105\n",
      "Epoch 38, CIFAR-10 Batch 3:  Cost: 0.0023278596345335245 | Accuracy: 0.7163997888565063\n",
      "Epoch 38, CIFAR-10 Batch 4:  Cost: 0.0002532870275899768 | Accuracy: 0.7057998776435852\n"
     ]
    },
    {
     "name": "stdout",
     "output_type": "stream",
     "text": [
      "Epoch 38, CIFAR-10 Batch 5:  Cost: 0.005603565834462643 | Accuracy: 0.6937998533248901\n",
      "Epoch 39, CIFAR-10 Batch 1:  Cost: 0.006069154944270849 | Accuracy: 0.7159999012947083\n",
      "Epoch 39, CIFAR-10 Batch 2:  Cost: 0.001044140080921352 | Accuracy: 0.7203998565673828\n",
      "Epoch 39, CIFAR-10 Batch 3:  Cost: 0.0042676180601119995 | Accuracy: 0.707599937915802\n",
      "Epoch 39, CIFAR-10 Batch 4:  Cost: 0.0069039794616401196 | Accuracy: 0.7111998200416565\n",
      "Epoch 39, CIFAR-10 Batch 5:  Cost: 0.0010304772295057774 | Accuracy: 0.716999888420105\n",
      "Epoch 40, CIFAR-10 Batch 1:  Cost: 8.284886462206487e-06 | Accuracy: 0.6965998411178589\n",
      "Epoch 40, CIFAR-10 Batch 2:  Cost: 2.0488243535510264e-05 | Accuracy: 0.7163997888565063\n",
      "Epoch 40, CIFAR-10 Batch 3:  Cost: 0.00071794877294451 | Accuracy: 0.7167998552322388\n",
      "Epoch 40, CIFAR-10 Batch 4:  Cost: 0.00013572587340604514 | Accuracy: 0.7249998450279236\n",
      "Epoch 40, CIFAR-10 Batch 5:  Cost: 0.0003174284938722849 | Accuracy: 0.7067998647689819\n",
      "Epoch 41, CIFAR-10 Batch 1:  Cost: 2.2737114704796113e-05 | Accuracy: 0.7107998728752136\n",
      "Epoch 41, CIFAR-10 Batch 2:  Cost: 2.7566995868255617e-06 | Accuracy: 0.715599775314331\n",
      "Epoch 41, CIFAR-10 Batch 3:  Cost: 0.0034153959713876247 | Accuracy: 0.7209998369216919\n",
      "Epoch 41, CIFAR-10 Batch 4:  Cost: 0.0014371604193001986 | Accuracy: 0.7093998789787292\n",
      "Epoch 41, CIFAR-10 Batch 5:  Cost: 0.0014182630693539977 | Accuracy: 0.7193999290466309\n",
      "Epoch 42, CIFAR-10 Batch 1:  Cost: 1.1071352673752699e-05 | Accuracy: 0.7087998390197754\n",
      "Epoch 42, CIFAR-10 Batch 2:  Cost: 0.0007034740992821753 | Accuracy: 0.7129998207092285\n",
      "Epoch 42, CIFAR-10 Batch 3:  Cost: 0.00039241829654201865 | Accuracy: 0.7077999114990234\n",
      "Epoch 42, CIFAR-10 Batch 4:  Cost: 0.0018825712613761425 | Accuracy: 0.7095998525619507\n",
      "Epoch 42, CIFAR-10 Batch 5:  Cost: 6.563160422956571e-05 | Accuracy: 0.7093998789787292\n",
      "Epoch 43, CIFAR-10 Batch 1:  Cost: 1.3231533557700459e-05 | Accuracy: 0.7149998545646667\n",
      "Epoch 43, CIFAR-10 Batch 2:  Cost: 1.5348118722613435e-06 | Accuracy: 0.6987998485565186\n",
      "Epoch 43, CIFAR-10 Batch 3:  Cost: 0.0006350717158056796 | Accuracy: 0.708599865436554\n",
      "Epoch 43, CIFAR-10 Batch 4:  Cost: 0.0008982478175312281 | Accuracy: 0.7167998552322388\n",
      "Epoch 43, CIFAR-10 Batch 5:  Cost: 3.526848740875721e-05 | Accuracy: 0.7087999582290649\n",
      "Epoch 44, CIFAR-10 Batch 1:  Cost: 0.004750228952616453 | Accuracy: 0.7113998532295227\n",
      "Epoch 44, CIFAR-10 Batch 2:  Cost: 2.980214048875496e-06 | Accuracy: 0.7177999019622803\n",
      "Epoch 44, CIFAR-10 Batch 3:  Cost: 3.683126124087721e-05 | Accuracy: 0.7067998647689819\n",
      "Epoch 44, CIFAR-10 Batch 4:  Cost: 9.808122558752075e-05 | Accuracy: 0.7101998925209045\n",
      "Epoch 44, CIFAR-10 Batch 5:  Cost: 0.005127024371176958 | Accuracy: 0.7071998715400696\n",
      "Epoch 45, CIFAR-10 Batch 1:  Cost: 0.00581336859613657 | Accuracy: 0.7049999237060547\n",
      "Epoch 45, CIFAR-10 Batch 2:  Cost: 5.996370600769296e-05 | Accuracy: 0.7127999067306519\n",
      "Epoch 45, CIFAR-10 Batch 3:  Cost: 0.001249084249138832 | Accuracy: 0.708599865436554\n",
      "Epoch 45, CIFAR-10 Batch 4:  Cost: 0.0036761676892638206 | Accuracy: 0.7137998938560486\n",
      "Epoch 45, CIFAR-10 Batch 5:  Cost: 0.00019944013911299407 | Accuracy: 0.6985998749732971\n",
      "Epoch 46, CIFAR-10 Batch 1:  Cost: 4.7385060497617815e-06 | Accuracy: 0.7199998497962952\n",
      "Epoch 46, CIFAR-10 Batch 2:  Cost: 0.0012108299415558577 | Accuracy: 0.7173998355865479\n",
      "Epoch 46, CIFAR-10 Batch 3:  Cost: 2.722163662838284e-05 | Accuracy: 0.7099999189376831\n",
      "Epoch 46, CIFAR-10 Batch 4:  Cost: 2.841407695086673e-05 | Accuracy: 0.7111998796463013\n",
      "Epoch 46, CIFAR-10 Batch 5:  Cost: 0.00017393338202964514 | Accuracy: 0.7057998180389404\n",
      "Epoch 47, CIFAR-10 Batch 1:  Cost: 1.0028227734437678e-05 | Accuracy: 0.7073999047279358\n",
      "Epoch 47, CIFAR-10 Batch 2:  Cost: 2.309665660504834e-06 | Accuracy: 0.7171998620033264\n",
      "Epoch 47, CIFAR-10 Batch 3:  Cost: 0.0005157905397936702 | Accuracy: 0.7143998742103577\n",
      "Epoch 47, CIFAR-10 Batch 4:  Cost: 0.00048143224557861686 | Accuracy: 0.708599865436554\n",
      "Epoch 47, CIFAR-10 Batch 5:  Cost: 0.00043217820348218083 | Accuracy: 0.7071998715400696\n",
      "Epoch 48, CIFAR-10 Batch 1:  Cost: 1.6032627172535285e-05 | Accuracy: 0.7123998999595642\n",
      "Epoch 48, CIFAR-10 Batch 2:  Cost: 2.9918557629571296e-05 | Accuracy: 0.7189998626708984\n",
      "Epoch 48, CIFAR-10 Batch 3:  Cost: 2.3245606826094445e-06 | Accuracy: 0.7189998626708984\n",
      "Epoch 48, CIFAR-10 Batch 4:  Cost: 0.0007770996307954192 | Accuracy: 0.6939998269081116\n",
      "Epoch 48, CIFAR-10 Batch 5:  Cost: 0.262515664100647 | Accuracy: 0.7123998999595642\n",
      "Epoch 49, CIFAR-10 Batch 1:  Cost: 7.241796538437484e-06 | Accuracy: 0.7163997888565063\n",
      "Epoch 49, CIFAR-10 Batch 2:  Cost: 3.7997401705069933e-06 | Accuracy: 0.7087998390197754\n",
      "Epoch 49, CIFAR-10 Batch 3:  Cost: 1.977238935069181e-05 | Accuracy: 0.7099997997283936\n",
      "Epoch 49, CIFAR-10 Batch 4:  Cost: 2.8832018870161846e-05 | Accuracy: 0.7089998722076416\n",
      "Epoch 49, CIFAR-10 Batch 5:  Cost: 0.00033380481181666255 | Accuracy: 0.7177998423576355\n",
      "Epoch 50, CIFAR-10 Batch 1:  Cost: 7.435501174768433e-06 | Accuracy: 0.7161998152732849\n",
      "Epoch 50, CIFAR-10 Batch 2:  Cost: 0.0002102278667734936 | Accuracy: 0.7153998613357544\n",
      "Epoch 50, CIFAR-10 Batch 3:  Cost: 4.5298825170903e-06 | Accuracy: 0.7123998403549194\n",
      "Epoch 50, CIFAR-10 Batch 4:  Cost: 0.0001020819108816795 | Accuracy: 0.7005999088287354\n",
      "Epoch 50, CIFAR-10 Batch 5:  Cost: 0.025345709174871445 | Accuracy: 0.7053998708724976\n"
     ]
    }
   ],
   "source": [
    "\"\"\"\n",
    "DON'T MODIFY ANYTHING IN THIS CELL\n",
    "\"\"\"\n",
    "save_model_path = './image_classification'\n",
    "\n",
    "print('Training...')\n",
    "with tf.Session() as sess:\n",
    "    # Initializing the variables\n",
    "    sess.run(tf.global_variables_initializer())\n",
    "    \n",
    "    # Training cycle\n",
    "    for epoch in range(epochs):\n",
    "        # Loop over all batches\n",
    "        n_batches = 5\n",
    "        for batch_i in range(1, n_batches + 1):\n",
    "            for batch_features, batch_labels in helper.load_preprocess_training_batch(batch_i, batch_size):\n",
    "                train_neural_network(sess, optimizer, keep_probability, batch_features, batch_labels)\n",
    "            print('Epoch {:>2}, CIFAR-10 Batch {}:  '.format(epoch + 1, batch_i), end='')\n",
    "            print_stats(sess, batch_features, batch_labels, cost, accuracy)\n",
    "            \n",
    "    # Save Model\n",
    "    saver = tf.train.Saver()\n",
    "    save_path = saver.save(sess, save_model_path)"
   ]
  },
  {
   "cell_type": "markdown",
   "metadata": {},
   "source": [
    "# Checkpoint\n",
    "The model has been saved to disk.\n",
    "## Test Model\n",
    "Test your model against the test dataset.  This will be your final accuracy. You should have an accuracy greater than 50%. If you don't, keep tweaking the model architecture and parameters."
   ]
  },
  {
   "cell_type": "code",
   "execution_count": 55,
   "metadata": {},
   "outputs": [
    {
     "name": "stdout",
     "output_type": "stream",
     "text": [
      "INFO:tensorflow:Restoring parameters from ./image_classification\n",
      "Testing Accuracy: 0.7029\n",
      "\n"
     ]
    },
    {
     "data": {
      "image/png": "[encoded data removed]",
      "text/plain": [
       "<matplotlib.figure.Figure at 0x7f0e54a6c978>"
      ]
     },
     "metadata": {
      "image/png": {
       "height": 319,
       "width": 353
      }
     },
     "output_type": "display_data"
    }
   ],
   "source": [
    "\"\"\"\n",
    "DON'T MODIFY ANYTHING IN THIS CELL\n",
    "\"\"\"\n",
    "%matplotlib inline\n",
    "%config InlineBackend.figure_format = 'retina'\n",
    "\n",
    "import tensorflow as tf\n",
    "import pickle\n",
    "import helper\n",
    "import random\n",
    "\n",
    "# Set batch size if not already set\n",
    "try:\n",
    "    if batch_size:\n",
    "        pass\n",
    "except NameError:\n",
    "    batch_size = 64\n",
    "\n",
    "save_model_path = './image_classification'\n",
    "n_samples = 4\n",
    "top_n_predictions = 3\n",
    "\n",
    "def test_model():\n",
    "    \"\"\"\n",
    "    Test the saved model against the test dataset\n",
    "    \"\"\"\n",
    "\n",
    "    test_features, test_labels = pickle.load(open('preprocess_test.p', mode='rb'))\n",
    "    loaded_graph = tf.Graph()\n",
    "\n",
    "    with tf.Session(graph=loaded_graph) as sess:\n",
    "        # Load model\n",
    "        loader = tf.train.import_meta_graph(save_model_path + '.meta')\n",
    "        loader.restore(sess, save_model_path)\n",
    "\n",
    "        # Get Tensors from loaded model\n",
    "        loaded_x = loaded_graph.get_tensor_by_name('x:0')\n",
    "        loaded_y = loaded_graph.get_tensor_by_name('y:0')\n",
    "        loaded_keep_prob = loaded_graph.get_tensor_by_name('keep_prob:0')\n",
    "        loaded_logits = loaded_graph.get_tensor_by_name('logits:0')\n",
    "        loaded_acc = loaded_graph.get_tensor_by_name('accuracy:0')\n",
    "        \n",
    "        # Get accuracy in batches for memory limitations\n",
    "        test_batch_acc_total = 0\n",
    "        test_batch_count = 0\n",
    "        \n",
    "        for test_feature_batch, test_label_batch in helper.batch_features_labels(test_features, test_labels, batch_size):\n",
    "            test_batch_acc_total += sess.run(\n",
    "                loaded_acc,\n",
    "                feed_dict={loaded_x: test_feature_batch, loaded_y: test_label_batch, loaded_keep_prob: 1.0})\n",
    "            test_batch_count += 1\n",
    "\n",
    "        print('Testing Accuracy: {}\\n'.format(test_batch_acc_total/test_batch_count))\n",
    "\n",
    "        # Print Random Samples\n",
    "        random_test_features, random_test_labels = tuple(zip(*random.sample(list(zip(test_features, test_labels)), n_samples)))\n",
    "        random_test_predictions = sess.run(\n",
    "            tf.nn.top_k(tf.nn.softmax(loaded_logits), top_n_predictions),\n",
    "            feed_dict={loaded_x: random_test_features, loaded_y: random_test_labels, loaded_keep_prob: 1.0})\n",
    "        helper.display_image_predictions(random_test_features, random_test_labels, random_test_predictions)\n",
    "\n",
    "\n",
    "test_model()"
   ]
  },
  {
   "cell_type": "markdown",
   "metadata": {},
   "source": [
    "## Why 50-80% Accuracy?\n",
    "You might be wondering why you can't get an accuracy any higher. First things first, 50% isn't bad for a simple CNN.  Pure guessing would get you 10% accuracy. However, you might notice people are getting scores [well above 80%](http://rodrigob.github.io/are_we_there_yet/build/classification_datasets_results.html#43494641522d3130).  That's because we haven't taught you all there is to know about neural networks. We still need to cover a few more techniques.\n",
    "## Submitting This Project\n",
    "When submitting this project, make sure to run all the cells before saving the notebook.  Save the notebook file as \"dlnd_image_classification.ipynb\" and save it as a HTML file under \"File\" -> \"Download as\".  Include the \"helper.py\" and \"problem_unittests.py\" files in your submission."
   ]
  }
 ],
 "metadata": {
  "kernelspec": {
   "display_name": "Python 3",
   "language": "python",
   "name": "python3"
  },
  "language_info": {
   "codemirror_mode": {
    "name": "ipython",
    "version": 3
   },
   "file_extension": ".py",
   "mimetype": "text/x-python",
   "name": "python",
   "nbconvert_exporter": "python",
   "pygments_lexer": "ipython3",
   "version": "3.5.3"
  }
 },
 "nbformat": 4,
 "nbformat_minor": 1
}
